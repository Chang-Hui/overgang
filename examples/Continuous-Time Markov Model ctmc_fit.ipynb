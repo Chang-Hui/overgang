{
 "cells": [
  {
   "cell_type": "raw",
   "metadata": {},
   "source": [
    "---\n",
    "title: \"Continuous-Time Markov Model ctmc_fit\"\n",
    "date: 2018-09-02T19:00:00+02:00\n",
    "draft: false\n",
    "tags: [\"ctmc_fit\", \"ctmc_fit2\", \"ctmc_datacheck\", \"overgang\", \"Continuous-Time Markov Model\"]\n",
    "author: \"Ulf Hamster\"\n",
    "---"
   ]
  },
  {
   "cell_type": "markdown",
   "metadata": {},
   "source": [
    "Load modules"
   ]
  },
  {
   "cell_type": "code",
   "execution_count": 1,
   "metadata": {
    "ExecuteTime": {
     "end_time": "2018-09-02T17:20:04.172556Z",
     "start_time": "2018-09-02T17:20:03.433441Z"
    }
   },
   "outputs": [],
   "source": [
    "import pprint\n",
    "pp = pprint.PrettyPrinter(indent=4)\n",
    "\n",
    "import pandas as pd\n",
    "import numpy as np\n",
    "from datetime import datetime\n",
    "import oxyba as ox\n",
    "import overgang as og\n",
    "\n",
    "%load_ext autoreload\n",
    "%autoreload 2\n",
    "%reload_ext autoreload"
   ]
  },
  {
   "cell_type": "markdown",
   "metadata": {},
   "source": [
    "### Data Preprocessing\n",
    "Import demo data"
   ]
  },
  {
   "cell_type": "code",
   "execution_count": 2,
   "metadata": {
    "ExecuteTime": {
     "end_time": "2018-09-02T17:20:04.217087Z",
     "start_time": "2018-09-02T17:20:04.176923Z"
    }
   },
   "outputs": [],
   "source": [
    "df = pd.read_csv(\"demo-data.csv\", delimiter=',')\n",
    "datatable = np.array(df)"
   ]
  },
  {
   "cell_type": "markdown",
   "metadata": {},
   "source": [
    "Transform data"
   ]
  },
  {
   "cell_type": "code",
   "execution_count": 3,
   "metadata": {
    "ExecuteTime": {
     "end_time": "2018-09-02T17:20:04.269547Z",
     "start_time": "2018-09-02T17:20:04.221014Z"
    }
   },
   "outputs": [],
   "source": [
    "datatable[:,1] = [datetime.strptime(d,'%Y-%m-%d') for d in datatable[:,1]]"
   ]
  },
  {
   "cell_type": "markdown",
   "metadata": {},
   "source": [
    "map_to_encodings"
   ]
  },
  {
   "cell_type": "code",
   "execution_count": 4,
   "metadata": {
    "ExecuteTime": {
     "end_time": "2018-09-02T17:20:04.309542Z",
     "start_time": "2018-09-02T17:20:04.274398Z"
    }
   },
   "outputs": [],
   "source": [
    "mapping = [['AAA'], ['AA+', 'AA', 'AA-'], ['A+', 'A', 'A-'], \n",
    "          ['BBB+', 'BBB', 'BBB-'], ['BB+', 'BB', 'BB-'], \n",
    "          ['B+', 'B', 'B-'], ['CCC+', 'CCC', 'CCC-', 'CC', 'C'], \n",
    "          ['DDD', 'DD', 'D', 'RD']]\n",
    "\n",
    "datatable[:,2] = ox.mapencode(datatable[:,2], mapping, nastate=True)\n",
    "\n",
    "numstates = len(mapping) + 1"
   ]
  },
  {
   "cell_type": "markdown",
   "metadata": {},
   "source": [
    "Transform tabular data to list of lists"
   ]
  },
  {
   "cell_type": "code",
   "execution_count": 5,
   "metadata": {
    "ExecuteTime": {
     "end_time": "2018-09-02T17:20:04.369830Z",
     "start_time": "2018-09-02T17:20:04.316716Z"
    }
   },
   "outputs": [],
   "source": [
    "#datalist = og.table_transform(datatable, lastdate=datetime(2018,1,1))\n",
    "datalist = og.table_transform(datatable)"
   ]
  },
  {
   "cell_type": "markdown",
   "metadata": {},
   "source": [
    "The `datalist` object as the following strucutre"
   ]
  },
  {
   "cell_type": "code",
   "execution_count": 6,
   "metadata": {
    "ExecuteTime": {
     "end_time": "2018-09-02T17:20:04.405251Z",
     "start_time": "2018-09-02T17:20:04.374030Z"
    }
   },
   "outputs": [
    {
     "name": "stdout",
     "output_type": "stream",
     "text": [
      "[   ([5, 6, 8], [2.208219178082192, 2.441095890410959, 5.112021857923497]),\n",
      "    ([4, 5, 4], [1.0573770491803278, 3.3534246575342466, 0.6693989071038251])]\n"
     ]
    }
   ],
   "source": [
    "pp.pprint(datalist[20:22])"
   ]
  },
  {
   "cell_type": "markdown",
   "metadata": {},
   "source": [
    "### Estimate Markov Model"
   ]
  },
  {
   "cell_type": "markdown",
   "metadata": {},
   "source": [
    "`ctmc_fit` with `debug=True` will throw an exception if something is wrong.\n",
    "With `debug=False` (Default) `ctmc_fit` is very fast but might crash at a later or generate bogus results."
   ]
  },
  {
   "cell_type": "code",
   "execution_count": 7,
   "metadata": {
    "ExecuteTime": {
     "end_time": "2018-09-02T17:20:04.572777Z",
     "start_time": "2018-09-02T17:20:04.410784Z"
    },
    "scrolled": false
   },
   "outputs": [
    {
     "name": "stdout",
     "output_type": "stream",
     "text": [
      "The example id=40 has a state[2] that have not been active for longer than toltime\n"
     ]
    }
   ],
   "source": [
    "try:\n",
    "    transmat, genmat, transcount, statetime = og.ctmc_fit(\n",
    "        datalist, numstates, 1.0, toltime=1e-8, debug=True)\n",
    "except Exception as e:\n",
    "    print(e)"
   ]
  },
  {
   "cell_type": "markdown",
   "metadata": {},
   "source": [
    "`ctmc_fit2` will just send a warning message and will try to autocorrect and proceed. \n",
    "Obviously, this kind of implementation invites for sluggish data preprocessing\n",
    "but is a painless way to get quick results for a small data set."
   ]
  },
  {
   "cell_type": "code",
   "execution_count": 8,
   "metadata": {
    "ExecuteTime": {
     "end_time": "2018-09-02T17:20:04.751080Z",
     "start_time": "2018-09-02T17:20:04.576681Z"
    }
   },
   "outputs": [
    {
     "name": "stderr",
     "output_type": "stream",
     "text": [
      "/Users/uh/kmedian/overgang/overgang/ctmc_fit2.py:25: UserWarning: The example id=40 has a state that have not been active for longer than toltime.\n",
      "  \"toltime.\").format(exid))\n"
     ]
    }
   ],
   "source": [
    "transmat, genmat, transcount, statetime = og.ctmc_fit2(datalist, numstates)"
   ]
  },
  {
   "cell_type": "markdown",
   "metadata": {},
   "source": [
    "At least we got a result with `ctmc_fit2`"
   ]
  },
  {
   "cell_type": "code",
   "execution_count": 9,
   "metadata": {
    "ExecuteTime": {
     "end_time": "2018-09-02T17:20:04.792185Z",
     "start_time": "2018-09-02T17:20:04.755628Z"
    }
   },
   "outputs": [
    {
     "name": "stdout",
     "output_type": "stream",
     "text": [
      "Transition Matrix\n",
      " [[0.96 0.04 0.   0.   0.   0.   0.   0.   0.  ]\n",
      " [0.04 0.9  0.06 0.   0.   0.   0.   0.   0.  ]\n",
      " [0.   0.03 0.89 0.08 0.   0.   0.   0.   0.  ]\n",
      " [0.   0.   0.06 0.86 0.06 0.01 0.   0.   0.  ]\n",
      " [0.   0.   0.   0.11 0.8  0.08 0.   0.   0.  ]\n",
      " [0.   0.   0.   0.01 0.1  0.79 0.05 0.01 0.04]\n",
      " [0.   0.   0.   0.   0.01 0.21 0.53 0.17 0.07]\n",
      " [0.   0.   0.   0.   0.03 0.38 0.06 0.52 0.01]\n",
      " [0.   0.   0.   0.   0.   0.03 0.   0.   0.97]]\n"
     ]
    }
   ],
   "source": [
    "print(\"Transition Matrix\\n\", transmat.round(2))"
   ]
  },
  {
   "cell_type": "markdown",
   "metadata": {},
   "source": [
    "### Go Back to Pre-Processing"
   ]
  },
  {
   "cell_type": "markdown",
   "metadata": {},
   "source": [
    "`ctmc_fit` with `debug=True` calls internally `ctmc_datacheck` at the beginning. \n",
    "`ctmc_datacheck` iterates over `datalist` and checks all kinds of error causes and throws immediatly an exception."
   ]
  },
  {
   "cell_type": "code",
   "execution_count": 10,
   "metadata": {
    "ExecuteTime": {
     "end_time": "2018-09-02T17:20:04.865727Z",
     "start_time": "2018-09-02T17:20:04.801403Z"
    }
   },
   "outputs": [
    {
     "name": "stdout",
     "output_type": "stream",
     "text": [
      "The example id=40 has a state[2] that have not been active for longer than toltime\n"
     ]
    }
   ],
   "source": [
    "try:\n",
    "    og.ctmc_datacheck(datalist, numstates, toltime=1e-8)\n",
    "except Exception as e:\n",
    "    print(e)"
   ]
  },
  {
   "cell_type": "code",
   "execution_count": 11,
   "metadata": {
    "ExecuteTime": {
     "end_time": "2018-09-02T17:20:04.967214Z",
     "start_time": "2018-09-02T17:20:04.887585Z"
    }
   },
   "outputs": [
    {
     "data": {
      "text/plain": [
       "([3, 4, 8, 5],\n",
       " [1.8164383561643835, 0.1178082191780822, 0.0, 1.3415300546448088])"
      ]
     },
     "execution_count": 11,
     "metadata": {},
     "output_type": "execute_result"
    }
   ],
   "source": [
    "datalist[40]"
   ]
  }
 ],
 "metadata": {
  "kernelspec": {
   "display_name": "Python 3",
   "language": "python",
   "name": "python3"
  },
  "language_info": {
   "codemirror_mode": {
    "name": "ipython",
    "version": 3
   },
   "file_extension": ".py",
   "mimetype": "text/x-python",
   "name": "python",
   "nbconvert_exporter": "python",
   "pygments_lexer": "ipython3",
   "version": "3.6.2"
  },
  "toc": {
   "base_numbering": 1,
   "nav_menu": {},
   "number_sections": true,
   "sideBar": true,
   "skip_h1_title": false,
   "title_cell": "Table of Contents",
   "title_sidebar": "Contents",
   "toc_cell": false,
   "toc_position": {},
   "toc_section_display": true,
   "toc_window_display": false
  },
  "varInspector": {
   "cols": {
    "lenName": 16,
    "lenType": 16,
    "lenVar": 40
   },
   "kernels_config": {
    "python": {
     "delete_cmd_postfix": "",
     "delete_cmd_prefix": "del ",
     "library": "var_list.py",
     "varRefreshCmd": "print(var_dic_list())"
    },
    "r": {
     "delete_cmd_postfix": ") ",
     "delete_cmd_prefix": "rm(",
     "library": "var_list.r",
     "varRefreshCmd": "cat(var_dic_list()) "
    }
   },
   "types_to_exclude": [
    "module",
    "function",
    "builtin_function_or_method",
    "instance",
    "_Feature"
   ],
   "window_display": false
  }
 },
 "nbformat": 4,
 "nbformat_minor": 2
}
